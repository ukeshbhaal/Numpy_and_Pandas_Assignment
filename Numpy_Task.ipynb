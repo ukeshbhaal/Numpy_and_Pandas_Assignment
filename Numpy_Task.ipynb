{
  "nbformat": 4,
  "nbformat_minor": 0,
  "metadata": {
    "colab": {
      "provenance": [],
      "authorship_tag": "ABX9TyO8GdMfpyP+I8CHP4ututvE",
      "include_colab_link": true
    },
    "kernelspec": {
      "name": "python3",
      "display_name": "Python 3"
    },
    "language_info": {
      "name": "python"
    }
  },
  "cells": [
    {
      "cell_type": "markdown",
      "metadata": {
        "id": "view-in-github",
        "colab_type": "text"
      },
      "source": [
        "<a href=\"https://colab.research.google.com/github/ukeshbhaal/Numpy_and_Pandas_Assignment/blob/main/Numpy_Task.ipynb\" target=\"_parent\"><img src=\"https://colab.research.google.com/assets/colab-badge.svg\" alt=\"Open In Colab\"/></a>"
      ]
    },
    {
      "cell_type": "markdown",
      "source": [
        "Aim: Revisiting the numpy\n",
        "Details: One feature of NumPy that is powerful but tricky is the ability to perform\n",
        "broadcasting, which really just refers to repeatedly performing an operation over one or more\n",
        "dimensions.\n",
        "Tasks:\n",
        "1. The most basic kind of broadcast is with a scalar, in which you can perform a binary\n",
        "operation (e.g., add, multiply, ...) on an array and a scalar, the effect is to perform that\n",
        "operation with the scalar for every element of the array. To try this out, create a vector\n",
        "1, 2, . . . , 10 by adding 1 to the result of the arange function.\n",
        "2. Now, create a 10 × 10 matrix A in which A[i][j] = i + j. You’ll be able to do this using\n",
        "the vector you just created, and adding it to a reshaped version of itself.\n",
        "3. A very common use of broadcasting is to standardize data, i.e., to make it have zero\n",
        "mean and unit variance.\n",
        "a. First, create a fake “data set” with 50 examples, each with five dimensions.\n",
        "b. import numpy.random as npr\n",
        "data = np.exp ( npr.randn(50, 5) )\n",
        "c. Don’t worry too much about what this code is doing at this stage of the\n",
        "course, but for completeness: it imports the NumPy random number\n",
        "generation library, then generates a 50 × 5 matrix of standard normal random\n",
        "variates and exponentiates them. The effect of this is to have a pretend data\n",
        "set of 50 independent and identically-distributed vectors from a log-normal\n",
        "distribution.\n",
        "\n",
        "4. Now, compute the mean and standard deviation of each column. This should result in\n",
        "two vectors of length 5. You’ll need to think a little bit about how to use the axis\n",
        "argument to mean and std. Store these vectors into variables and print both of them.\n",
        "5. Now standardize the data matrix by 1) subtracting the mean off of each column, and\n",
        "2) dividing each column by its standard deviation. Do this via broadcasting, and store\n",
        "the result in a matrix called normalized. To verify that you successfully did it, compute\n",
        "the mean and standard deviation of the columns of normalized and print them out.\n",
        "\n",
        "Part-2\n",
        "\n",
        "Aim: Performing the Hypothesis testing using the Chi-squared test\n",
        "The table below is a survey response to 4 categorical variables: people in categories from\n",
        "18–29, 30–44, 45–64 and >65 years, and their movie genre inclination, which is\n",
        "“Action/Adventure”, “Romance” and “Biography”. Is there any evidence of a relationship\n",
        "between the age group and their movie genre inclination, at 5% significance level?\n",
        "\n",
        "Action/Adventure Romance Biography Total\n",
        "18-29 141 68 4 213\n",
        "30-44 179 159 7 345\n",
        "45-64 220 216 4 440\n",
        "65&older 86 101 4 191\n",
        "Total 626 544 19 1189"
      ],
      "metadata": {
        "id": "7S80cK_Ver8I"
      }
    },
    {
      "cell_type": "code",
      "execution_count": null,
      "metadata": {
        "colab": {
          "base_uri": "https://localhost:8080/"
        },
        "id": "ZJoABhU21CF1",
        "outputId": "5367b02f-f3d4-46ed-8063-6ae224015981"
      },
      "outputs": [
        {
          "output_type": "stream",
          "name": "stdout",
          "text": [
            "[ 2  3  4  5  6  7  8  9 10 11]\n"
          ]
        }
      ],
      "source": [
        "import numpy as np\n",
        "#vector=(,2,3,4,5,6,7,8,9,10)\n",
        "x=np.arange(1,11)\n",
        "#print(x)\n",
        "x1=x+1\n",
        "print(x1)"
      ]
    },
    {
      "cell_type": "code",
      "source": [
        "m, n = 10,10\n",
        "A = np.empty(shape=(m, n), dtype=int)\n",
        "\"\"\"for i in range(m):\n",
        "    for j in range(n):\n",
        "        A[i, j] = i+j\"\"\"\n",
        "i, j = np.ogrid[:m, :n]\n",
        "#print(i,j)\n",
        "A = i+j\n",
        "print(A)\n",
        "\"\"\"A = np.add.outer(range(m), range(n))\n",
        "A\"\"\""
      ],
      "metadata": {
        "colab": {
          "base_uri": "https://localhost:8080/",
          "height": 218
        },
        "id": "mMnuCl-N2KBU",
        "outputId": "48646ffd-850f-46ed-803c-42f60363cbe4"
      },
      "execution_count": null,
      "outputs": [
        {
          "output_type": "stream",
          "name": "stdout",
          "text": [
            "[[ 0  1  2  3  4  5  6  7  8  9]\n",
            " [ 1  2  3  4  5  6  7  8  9 10]\n",
            " [ 2  3  4  5  6  7  8  9 10 11]\n",
            " [ 3  4  5  6  7  8  9 10 11 12]\n",
            " [ 4  5  6  7  8  9 10 11 12 13]\n",
            " [ 5  6  7  8  9 10 11 12 13 14]\n",
            " [ 6  7  8  9 10 11 12 13 14 15]\n",
            " [ 7  8  9 10 11 12 13 14 15 16]\n",
            " [ 8  9 10 11 12 13 14 15 16 17]\n",
            " [ 9 10 11 12 13 14 15 16 17 18]]\n"
          ]
        },
        {
          "output_type": "execute_result",
          "data": {
            "text/plain": [
              "'A = np.add.outer(range(m), range(n))\\nA'"
            ],
            "application/vnd.google.colaboratory.intrinsic+json": {
              "type": "string"
            }
          },
          "metadata": {},
          "execution_count": 8
        }
      ]
    },
    {
      "cell_type": "code",
      "source": [
        "a = np.zeros((2, 512*512), dtype=np.float32)  \n",
        "a[1, :] = 1.0  \n",
        "a[0, :] = 0.1  \n",
        "print(a)\n",
        "\"\"\"b=np.std(a)  \n",
        "b \"\"\" "
      ],
      "metadata": {
        "id": "aiqSSy5nFnqS",
        "colab": {
          "base_uri": "https://localhost:8080/",
          "height": 72
        },
        "outputId": "57abfa92-b30d-4a1c-d10a-22fe5f22ff5d"
      },
      "execution_count": null,
      "outputs": [
        {
          "output_type": "stream",
          "name": "stdout",
          "text": [
            "[[0.1 0.1 0.1 ... 0.1 0.1 0.1]\n",
            " [1.  1.  1.  ... 1.  1.  1. ]]\n"
          ]
        },
        {
          "output_type": "execute_result",
          "data": {
            "text/plain": [
              "'b=np.std(a)  \\nb '"
            ],
            "application/vnd.google.colaboratory.intrinsic+json": {
              "type": "string"
            }
          },
          "metadata": {},
          "execution_count": 9
        }
      ]
    },
    {
      "cell_type": "code",
      "source": [
        "import numpy.random as npr\n",
        "data = np.exp ( npr.randn(50, 5) )\n",
        "b=np.std(data,axis=1)\n",
        "print(b)\n",
        "c=np.mean(data,axis=1)\n",
        "print(\"mean = \",c)\n"
      ],
      "metadata": {
        "colab": {
          "base_uri": "https://localhost:8080/"
        },
        "id": "IEP5sz9TC1bc",
        "outputId": "7e95b657-3c9c-4190-cd82-321837f42b1f"
      },
      "execution_count": null,
      "outputs": [
        {
          "output_type": "stream",
          "name": "stdout",
          "text": [
            "[1.30195138 3.30753626 1.62693569 0.97604152 1.57919709]\n",
            "mean =  [1.37955338 2.57843818 1.61582634 1.18211856 1.56768657]\n"
          ]
        }
      ]
    },
    {
      "cell_type": "code",
      "source": [
        "\"\"\"Action/Adventure Romance Biography Total\n",
        "18-29 141 68 4 213\n",
        "30-44 179 159 7 345\n",
        "45-64 220 216 4 440\n",
        "65&older 86 101 4 191\n",
        "Total 626 544 19 1189\"\"\""
      ],
      "metadata": {
        "id": "t6NMAFEULqjf"
      },
      "execution_count": null,
      "outputs": []
    },
    {
      "cell_type": "code",
      "source": [
        "import pandas as pd\n",
        "data2={'Age':[\"18-29\",\"30-44\",\"45-64\",\"65&older\",\"Total\"],'Action/Adventure':[141,179,220,86,626],'Romance':[68,159,216,101,544],\n",
        "       'Biography':[4,7,4,4,19],\n",
        "       'Total':[213,345,440,191,1189]}\n",
        "df= pd.DataFrame(data2)\n",
        "df"
      ],
      "metadata": {
        "colab": {
          "base_uri": "https://localhost:8080/",
          "height": 206
        },
        "id": "YQ0R0fT3MIZA",
        "outputId": "5509ba8c-76f6-45d3-c210-754f2f162400"
      },
      "execution_count": null,
      "outputs": [
        {
          "output_type": "execute_result",
          "data": {
            "text/plain": [
              "        Age  Action/Adventure  Romance  Biography  Total\n",
              "0     18-29               141       68          4    213\n",
              "1     30-44               179      159          7    345\n",
              "2     45-64               220      216          4    440\n",
              "3  65&older                86      101          4    191\n",
              "4     Total               626      544         19   1189"
            ],
            "text/html": [
              "\n",
              "  <div id=\"df-aaf59a30-560d-46d1-974a-f1bcadaa42c1\">\n",
              "    <div class=\"colab-df-container\">\n",
              "      <div>\n",
              "<style scoped>\n",
              "    .dataframe tbody tr th:only-of-type {\n",
              "        vertical-align: middle;\n",
              "    }\n",
              "\n",
              "    .dataframe tbody tr th {\n",
              "        vertical-align: top;\n",
              "    }\n",
              "\n",
              "    .dataframe thead th {\n",
              "        text-align: right;\n",
              "    }\n",
              "</style>\n",
              "<table border=\"1\" class=\"dataframe\">\n",
              "  <thead>\n",
              "    <tr style=\"text-align: right;\">\n",
              "      <th></th>\n",
              "      <th>Age</th>\n",
              "      <th>Action/Adventure</th>\n",
              "      <th>Romance</th>\n",
              "      <th>Biography</th>\n",
              "      <th>Total</th>\n",
              "    </tr>\n",
              "  </thead>\n",
              "  <tbody>\n",
              "    <tr>\n",
              "      <th>0</th>\n",
              "      <td>18-29</td>\n",
              "      <td>141</td>\n",
              "      <td>68</td>\n",
              "      <td>4</td>\n",
              "      <td>213</td>\n",
              "    </tr>\n",
              "    <tr>\n",
              "      <th>1</th>\n",
              "      <td>30-44</td>\n",
              "      <td>179</td>\n",
              "      <td>159</td>\n",
              "      <td>7</td>\n",
              "      <td>345</td>\n",
              "    </tr>\n",
              "    <tr>\n",
              "      <th>2</th>\n",
              "      <td>45-64</td>\n",
              "      <td>220</td>\n",
              "      <td>216</td>\n",
              "      <td>4</td>\n",
              "      <td>440</td>\n",
              "    </tr>\n",
              "    <tr>\n",
              "      <th>3</th>\n",
              "      <td>65&amp;older</td>\n",
              "      <td>86</td>\n",
              "      <td>101</td>\n",
              "      <td>4</td>\n",
              "      <td>191</td>\n",
              "    </tr>\n",
              "    <tr>\n",
              "      <th>4</th>\n",
              "      <td>Total</td>\n",
              "      <td>626</td>\n",
              "      <td>544</td>\n",
              "      <td>19</td>\n",
              "      <td>1189</td>\n",
              "    </tr>\n",
              "  </tbody>\n",
              "</table>\n",
              "</div>\n",
              "      <button class=\"colab-df-convert\" onclick=\"convertToInteractive('df-aaf59a30-560d-46d1-974a-f1bcadaa42c1')\"\n",
              "              title=\"Convert this dataframe to an interactive table.\"\n",
              "              style=\"display:none;\">\n",
              "        \n",
              "  <svg xmlns=\"http://www.w3.org/2000/svg\" height=\"24px\"viewBox=\"0 0 24 24\"\n",
              "       width=\"24px\">\n",
              "    <path d=\"M0 0h24v24H0V0z\" fill=\"none\"/>\n",
              "    <path d=\"M18.56 5.44l.94 2.06.94-2.06 2.06-.94-2.06-.94-.94-2.06-.94 2.06-2.06.94zm-11 1L8.5 8.5l.94-2.06 2.06-.94-2.06-.94L8.5 2.5l-.94 2.06-2.06.94zm10 10l.94 2.06.94-2.06 2.06-.94-2.06-.94-.94-2.06-.94 2.06-2.06.94z\"/><path d=\"M17.41 7.96l-1.37-1.37c-.4-.4-.92-.59-1.43-.59-.52 0-1.04.2-1.43.59L10.3 9.45l-7.72 7.72c-.78.78-.78 2.05 0 2.83L4 21.41c.39.39.9.59 1.41.59.51 0 1.02-.2 1.41-.59l7.78-7.78 2.81-2.81c.8-.78.8-2.07 0-2.86zM5.41 20L4 18.59l7.72-7.72 1.47 1.35L5.41 20z\"/>\n",
              "  </svg>\n",
              "      </button>\n",
              "      \n",
              "  <style>\n",
              "    .colab-df-container {\n",
              "      display:flex;\n",
              "      flex-wrap:wrap;\n",
              "      gap: 12px;\n",
              "    }\n",
              "\n",
              "    .colab-df-convert {\n",
              "      background-color: #E8F0FE;\n",
              "      border: none;\n",
              "      border-radius: 50%;\n",
              "      cursor: pointer;\n",
              "      display: none;\n",
              "      fill: #1967D2;\n",
              "      height: 32px;\n",
              "      padding: 0 0 0 0;\n",
              "      width: 32px;\n",
              "    }\n",
              "\n",
              "    .colab-df-convert:hover {\n",
              "      background-color: #E2EBFA;\n",
              "      box-shadow: 0px 1px 2px rgba(60, 64, 67, 0.3), 0px 1px 3px 1px rgba(60, 64, 67, 0.15);\n",
              "      fill: #174EA6;\n",
              "    }\n",
              "\n",
              "    [theme=dark] .colab-df-convert {\n",
              "      background-color: #3B4455;\n",
              "      fill: #D2E3FC;\n",
              "    }\n",
              "\n",
              "    [theme=dark] .colab-df-convert:hover {\n",
              "      background-color: #434B5C;\n",
              "      box-shadow: 0px 1px 3px 1px rgba(0, 0, 0, 0.15);\n",
              "      filter: drop-shadow(0px 1px 2px rgba(0, 0, 0, 0.3));\n",
              "      fill: #FFFFFF;\n",
              "    }\n",
              "  </style>\n",
              "\n",
              "      <script>\n",
              "        const buttonEl =\n",
              "          document.querySelector('#df-aaf59a30-560d-46d1-974a-f1bcadaa42c1 button.colab-df-convert');\n",
              "        buttonEl.style.display =\n",
              "          google.colab.kernel.accessAllowed ? 'block' : 'none';\n",
              "\n",
              "        async function convertToInteractive(key) {\n",
              "          const element = document.querySelector('#df-aaf59a30-560d-46d1-974a-f1bcadaa42c1');\n",
              "          const dataTable =\n",
              "            await google.colab.kernel.invokeFunction('convertToInteractive',\n",
              "                                                     [key], {});\n",
              "          if (!dataTable) return;\n",
              "\n",
              "          const docLinkHtml = 'Like what you see? Visit the ' +\n",
              "            '<a target=\"_blank\" href=https://colab.research.google.com/notebooks/data_table.ipynb>data table notebook</a>'\n",
              "            + ' to learn more about interactive tables.';\n",
              "          element.innerHTML = '';\n",
              "          dataTable['output_type'] = 'display_data';\n",
              "          await google.colab.output.renderOutput(dataTable, element);\n",
              "          const docLink = document.createElement('div');\n",
              "          docLink.innerHTML = docLinkHtml;\n",
              "          element.appendChild(docLink);\n",
              "        }\n",
              "      </script>\n",
              "    </div>\n",
              "  </div>\n",
              "  "
            ]
          },
          "metadata": {},
          "execution_count": 1
        }
      ]
    },
    {
      "cell_type": "code",
      "source": [
        "from scipy.stats import chi2_contingency\n",
        "  \n",
        "# defining the table\n",
        "Data = [[141, 68, 4], [179, 159, 7], [220,216,4], [86,101,4]]\n",
        "Calculated_ChiSq, p,  Degrees_of_Freedom, Expected_Values = chi2_contingency(Data)\n",
        "  \n",
        "# interpret p-value\n",
        "Alpha = 0.05\n",
        "print(\"p value is \" + str(p))\n",
        "if p >= Alpha:\n",
        "    print('Independent (H0 Holds True / We accept the Null Hypothesis)') #No Co-relation\n",
        "else:\n",
        "    print('Dependent (We Reject the H0)') #Co-relation exists"
      ],
      "metadata": {
        "colab": {
          "base_uri": "https://localhost:8080/"
        },
        "id": "zw8thDOpgoZ3",
        "outputId": "381f37aa-9b67-45d0-b00a-6ed43bd54536"
      },
      "execution_count": null,
      "outputs": [
        {
          "output_type": "stream",
          "name": "stdout",
          "text": [
            "p value is 0.00044690833914947634\n",
            "Dependent (We Reject the H0)\n"
          ]
        }
      ]
    }
  ]
}